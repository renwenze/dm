{
 "cells": [
  {
   "cell_type": "code",
   "execution_count": 8,
   "id": "initial_id",
   "metadata": {
    "collapsed": true,
    "ExecuteTime": {
     "end_time": "2023-12-04T06:14:42.618526900Z",
     "start_time": "2023-12-04T06:14:42.612500Z"
    }
   },
   "outputs": [],
   "source": [
    "import numpy as np"
   ]
  },
  {
   "cell_type": "code",
   "execution_count": null,
   "outputs": [],
   "source": [],
   "metadata": {
    "collapsed": false
   },
   "id": "a1f87010765862dd"
  },
  {
   "cell_type": "code",
   "execution_count": null,
   "outputs": [],
   "source": [
    "a =  np.empty((2,3))"
   ],
   "metadata": {
    "collapsed": false
   },
   "id": "271f7f359aa183a6"
  },
  {
   "cell_type": "code",
   "execution_count": 9,
   "outputs": [],
   "source": [
    "a[0]=0"
   ],
   "metadata": {
    "collapsed": false,
    "ExecuteTime": {
     "end_time": "2023-12-04T06:15:44.114896300Z",
     "start_time": "2023-12-04T06:15:44.101735600Z"
    }
   },
   "id": "2225f6bcdf14ade7"
  },
  {
   "cell_type": "code",
   "execution_count": 10,
   "outputs": [
    {
     "data": {
      "text/plain": "array([[0.00000000e+000, 0.00000000e+000, 0.00000000e+000],\n       [7.56577399e-307, 9.34600963e-307, 1.00136896e-307]])"
     },
     "execution_count": 10,
     "metadata": {},
     "output_type": "execute_result"
    }
   ],
   "source": [
    "a"
   ],
   "metadata": {
    "collapsed": false,
    "ExecuteTime": {
     "end_time": "2023-12-04T06:15:45.737542600Z",
     "start_time": "2023-12-04T06:15:45.726181100Z"
    }
   },
   "id": "4a0767c482feb238"
  },
  {
   "cell_type": "code",
   "execution_count": 11,
   "outputs": [],
   "source": [
    "a[1]=1\n"
   ],
   "metadata": {
    "collapsed": false,
    "ExecuteTime": {
     "end_time": "2023-12-04T06:16:01.371539400Z",
     "start_time": "2023-12-04T06:16:01.360611800Z"
    }
   },
   "id": "8a6da5616562ed3d"
  },
  {
   "cell_type": "code",
   "execution_count": 12,
   "outputs": [
    {
     "data": {
      "text/plain": "array([[0., 0., 0.],\n       [1., 1., 1.]])"
     },
     "execution_count": 12,
     "metadata": {},
     "output_type": "execute_result"
    }
   ],
   "source": [
    "a"
   ],
   "metadata": {
    "collapsed": false,
    "ExecuteTime": {
     "end_time": "2023-12-04T06:16:02.669525900Z",
     "start_time": "2023-12-04T06:16:02.652095400Z"
    }
   },
   "id": "2085b3d372c7bdcf"
  },
  {
   "cell_type": "code",
   "execution_count": 13,
   "outputs": [],
   "source": [
    "a = np.arange(5)"
   ],
   "metadata": {
    "collapsed": false,
    "ExecuteTime": {
     "end_time": "2023-12-04T06:17:40.463749800Z",
     "start_time": "2023-12-04T06:17:40.440837300Z"
    }
   },
   "id": "db4f8ca06b7b18e"
  },
  {
   "cell_type": "code",
   "execution_count": 14,
   "outputs": [
    {
     "data": {
      "text/plain": "array([0, 1, 2, 3, 4])"
     },
     "execution_count": 14,
     "metadata": {},
     "output_type": "execute_result"
    }
   ],
   "source": [
    "a"
   ],
   "metadata": {
    "collapsed": false,
    "ExecuteTime": {
     "end_time": "2023-12-04T06:17:42.548677200Z",
     "start_time": "2023-12-04T06:17:42.536286400Z"
    }
   },
   "id": "8bc33e997c3ec166"
  },
  {
   "cell_type": "code",
   "execution_count": 15,
   "outputs": [],
   "source": [
    "points = np.arange(-1,1,0.5)"
   ],
   "metadata": {
    "collapsed": false,
    "ExecuteTime": {
     "end_time": "2023-12-04T06:57:07.481243300Z",
     "start_time": "2023-12-04T06:57:07.460176800Z"
    }
   },
   "id": "96c83f1db5db1087"
  },
  {
   "cell_type": "code",
   "execution_count": 16,
   "outputs": [],
   "source": [
    " xs, ys = np.meshgrid(points, points)"
   ],
   "metadata": {
    "collapsed": false,
    "ExecuteTime": {
     "end_time": "2023-12-04T06:57:16.712175900Z",
     "start_time": "2023-12-04T06:57:16.702680400Z"
    }
   },
   "id": "bfa5ab1417aeb9a9"
  },
  {
   "cell_type": "code",
   "execution_count": 17,
   "outputs": [
    {
     "data": {
      "text/plain": "array([[-1. , -0.5,  0. ,  0.5],\n       [-1. , -0.5,  0. ,  0.5],\n       [-1. , -0.5,  0. ,  0.5],\n       [-1. , -0.5,  0. ,  0.5]])"
     },
     "execution_count": 17,
     "metadata": {},
     "output_type": "execute_result"
    }
   ],
   "source": [
    " xs"
   ],
   "metadata": {
    "collapsed": false,
    "ExecuteTime": {
     "end_time": "2023-12-04T06:57:47.381624300Z",
     "start_time": "2023-12-04T06:57:47.368175500Z"
    }
   },
   "id": "6dfe0f8d783cb9ee"
  },
  {
   "cell_type": "code",
   "execution_count": 18,
   "outputs": [
    {
     "data": {
      "text/plain": "array([-1. , -0.5,  0. ,  0.5])"
     },
     "execution_count": 18,
     "metadata": {},
     "output_type": "execute_result"
    }
   ],
   "source": [
    "points"
   ],
   "metadata": {
    "collapsed": false,
    "ExecuteTime": {
     "end_time": "2023-12-04T06:58:50.289460900Z",
     "start_time": "2023-12-04T06:58:50.277709Z"
    }
   },
   "id": "ab43ef5e2b1d6819"
  },
  {
   "cell_type": "code",
   "execution_count": 1,
   "outputs": [],
   "source": [
    "import numpy as np\n"
   ],
   "metadata": {
    "collapsed": false,
    "ExecuteTime": {
     "end_time": "2023-12-04T07:55:14.688758900Z",
     "start_time": "2023-12-04T07:55:14.549995900Z"
    }
   },
   "id": "1d3e763bbbd1bbdb"
  },
  {
   "cell_type": "code",
   "execution_count": 16,
   "outputs": [],
   "source": [
    "a =np.random.randint(0,2,size=(2,3))"
   ],
   "metadata": {
    "collapsed": false,
    "ExecuteTime": {
     "end_time": "2023-12-04T07:59:52.498446600Z",
     "start_time": "2023-12-04T07:59:52.486038800Z"
    }
   },
   "id": "84003dd3f6f702a8"
  },
  {
   "cell_type": "code",
   "execution_count": 17,
   "outputs": [
    {
     "data": {
      "text/plain": "array([[0, 0, 1],\n       [1, 1, 0]])"
     },
     "execution_count": 17,
     "metadata": {},
     "output_type": "execute_result"
    }
   ],
   "source": [
    "a"
   ],
   "metadata": {
    "collapsed": false,
    "ExecuteTime": {
     "end_time": "2023-12-04T07:59:52.940941600Z",
     "start_time": "2023-12-04T07:59:52.915920500Z"
    }
   },
   "id": "306f272b8e914d23"
  },
  {
   "cell_type": "code",
   "execution_count": 20,
   "outputs": [],
   "source": [
    "b=np.where(a>0,1,0)"
   ],
   "metadata": {
    "collapsed": false,
    "ExecuteTime": {
     "end_time": "2023-12-04T08:00:14.940927300Z",
     "start_time": "2023-12-04T08:00:14.927314200Z"
    }
   },
   "id": "7d44971978e8d360"
  },
  {
   "cell_type": "code",
   "execution_count": 21,
   "outputs": [
    {
     "data": {
      "text/plain": "array([[0, 0, 1],\n       [1, 1, 0]])"
     },
     "execution_count": 21,
     "metadata": {},
     "output_type": "execute_result"
    }
   ],
   "source": [
    "b"
   ],
   "metadata": {
    "collapsed": false,
    "ExecuteTime": {
     "end_time": "2023-12-04T08:00:15.832650300Z",
     "start_time": "2023-12-04T08:00:15.820365Z"
    }
   },
   "id": "d1785b2be01ddedf"
  },
  {
   "cell_type": "code",
   "execution_count": 23,
   "outputs": [],
   "source": [
    "c=b.cumsum()"
   ],
   "metadata": {
    "collapsed": false,
    "ExecuteTime": {
     "end_time": "2023-12-04T08:01:08.532678800Z",
     "start_time": "2023-12-04T08:01:08.519038500Z"
    }
   },
   "id": "4668aac47c37df1d"
  },
  {
   "cell_type": "code",
   "execution_count": 24,
   "outputs": [
    {
     "data": {
      "text/plain": "array([0, 0, 1, 2, 3, 3], dtype=int32)"
     },
     "execution_count": 24,
     "metadata": {},
     "output_type": "execute_result"
    }
   ],
   "source": [
    "c"
   ],
   "metadata": {
    "collapsed": false,
    "ExecuteTime": {
     "end_time": "2023-12-04T08:01:10.165520400Z",
     "start_time": "2023-12-04T08:01:10.090822400Z"
    }
   },
   "id": "19161e398c6cd5c2"
  },
  {
   "cell_type": "code",
   "execution_count": 26,
   "outputs": [
    {
     "data": {
      "text/plain": "numpy.ndarray"
     },
     "execution_count": 26,
     "metadata": {},
     "output_type": "execute_result"
    }
   ],
   "source": [
    "type(c)"
   ],
   "metadata": {
    "collapsed": false,
    "ExecuteTime": {
     "end_time": "2023-12-04T08:01:23.008754200Z",
     "start_time": "2023-12-04T08:01:22.983740900Z"
    }
   },
   "id": "5677002a7c32096b"
  },
  {
   "cell_type": "code",
   "execution_count": null,
   "outputs": [],
   "source": [],
   "metadata": {
    "collapsed": false
   },
   "id": "2bcde8fc0b0bce53"
  }
 ],
 "metadata": {
  "kernelspec": {
   "name": "pytorchgpu",
   "language": "python",
   "display_name": "pytorchgpu"
  },
  "language_info": {
   "codemirror_mode": {
    "name": "ipython",
    "version": 2
   },
   "file_extension": ".py",
   "mimetype": "text/x-python",
   "name": "python",
   "nbconvert_exporter": "python",
   "pygments_lexer": "ipython2",
   "version": "2.7.6"
  }
 },
 "nbformat": 4,
 "nbformat_minor": 5
}
