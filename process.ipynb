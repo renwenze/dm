{
 "cells": [
  {
   "cell_type": "code",
   "execution_count": 1,
   "outputs": [],
   "source": [
    "import pandas as pd\n",
    "import numpy as np\n",
    "import os\n",
    "import json\n",
    "import re\n",
    "import hashlib\n",
    "from collections import defaultdict\n",
    "from tqdm.notebook import tqdm as tqdm\n",
    "from sklearn.model_selection import StratifiedKFold, train_test_split\n",
    "from sklearn.preprocessing import LabelEncoder, StandardScaler\n",
    "import torch\n",
    "import torch.utils.data as Data\n",
    "from transformers import BertModel, BertTokenizer\n",
    "from ast import literal_eval\n",
    "import lightgbm as lgb\n",
    "from collections import Counter\n",
    "\n"
   ],
   "metadata": {
    "collapsed": false,
    "ExecuteTime": {
     "end_time": "2023-11-28T06:35:40.452395700Z",
     "start_time": "2023-11-28T06:35:33.942957400Z"
    }
   },
   "id": "642a63b05df5f7c5"
  },
  {
   "cell_type": "code",
   "execution_count": 2,
   "outputs": [],
   "source": [
    "import pickle"
   ],
   "metadata": {
    "collapsed": false,
    "ExecuteTime": {
     "end_time": "2023-11-28T06:35:42.689477800Z",
     "start_time": "2023-11-28T06:35:42.669461500Z"
    }
   },
   "id": "1b8ebe665fad9ac"
  },
  {
   "cell_type": "code",
   "execution_count": 6,
   "outputs": [],
   "source": [
    "if os.path.exists('data/train_set.csv'):\n",
    "    os.remove('data/train_set.csv')\n",
    "with open('data/train_set.csv','w') as f:\n",
    "    f.write('user1_id,user2_id,is_reposted\\n')\n",
    "with open('data/tweet_content.pickle','rb') as f1,open('data/train_set.csv','a+') as f2,\\\n",
    "        open('data/tw_legal30000_post_edges.pickle','rb') as f3:\n",
    "    tweet_dict=pickle.load(f1)#tweet_id:tweet_content\n",
    "    interaction_list=pickle.load(f3)#('81211877', '2467791', ['1537161553669144577', '12\n",
    "    i=0\n",
    "    for item in interaction_list:\n",
    "        if i>= 10000:\n",
    "            break\n",
    "        if item[1]!=item[0]:\n",
    "            f2.write(f\"{item[0]},{item[1]},1\\n\")\n",
    "            i+=1\n",
    "    \n",
    "    link_dict=defaultdict(set)\n",
    "    all_node=set()\n",
    "    unlink=set()\n",
    "    for item in interaction_list:\n",
    "        link_dict[item[0]].add(item[1])\n",
    "        all_node.add(item[0])\n",
    "        all_node.add(item[1])\n",
    "    count1=0\n",
    "    for k in link_dict.keys():\n",
    "        beside=all_node.difference(link_dict[k])\n",
    "        count2=0\n",
    "        for item in beside:\n",
    "            f2.write(f\"{k},{item},0\\n\")\n",
    "            count1+=1\n",
    "            count2+=1\n",
    "            if count2 >=100:\n",
    "                break\n",
    "        if count1 >=10000:\n",
    "            break\n",
    "        \n",
    "        \n",
    "    "
   ],
   "metadata": {
    "collapsed": false,
    "ExecuteTime": {
     "end_time": "2023-11-28T06:47:07.175677Z",
     "start_time": "2023-11-28T06:47:02.673107100Z"
    }
   },
   "id": "6e8d972da7f925b4"
  },
  {
   "cell_type": "markdown",
   "source": [
    "### 构建训练集\n",
    "正例为有交互的节点对\n",
    "反例为没有产生交互的节点对"
   ],
   "metadata": {
    "collapsed": false
   },
   "id": "2c00d878f3cb0fac"
  },
  {
   "cell_type": "code",
   "execution_count": null,
   "outputs": [],
   "source": [],
   "metadata": {
    "collapsed": false
   },
   "id": "f6d805cd3d7b760d"
  }
 ],
 "metadata": {
  "kernelspec": {
   "name": "pytorchgpu",
   "language": "python",
   "display_name": "pytorchgpu"
  },
  "language_info": {
   "codemirror_mode": {
    "name": "ipython",
    "version": 2
   },
   "file_extension": ".py",
   "mimetype": "text/x-python",
   "name": "python",
   "nbconvert_exporter": "python",
   "pygments_lexer": "ipython2",
   "version": "2.7.6"
  }
 },
 "nbformat": 4,
 "nbformat_minor": 5
}
